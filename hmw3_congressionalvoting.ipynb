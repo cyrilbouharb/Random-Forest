{
 "cells": [
  {
   "cell_type": "code",
   "execution_count": 37,
   "metadata": {
    "colab": {
     "base_uri": "https://localhost:8080/"
    },
    "id": "TtosGzd2AY3U",
    "outputId": "09718a71-1264-40ff-8bc6-fcdf70c93fc9"
   },
   "outputs": [
    {
     "name": "stdout",
     "output_type": "stream",
     "text": [
      "Archive:  /content/hw3.zip\n",
      "replace HW3.tex? [y]es, [n]o, [A]ll, [N]one, [r]ename: "
     ]
    }
   ],
   "source": [
    "#!unzip '/content/hw3.zip'"
   ]
  },
  {
   "cell_type": "code",
   "execution_count": 38,
   "metadata": {
    "id": "911WGUcSAoQ_"
   },
   "outputs": [],
   "source": [
    "import numpy as np\n",
    "import pandas as pd\n",
    "import matplotlib.pyplot as plt\n",
    "from collections import Counter\n",
    "import seaborn as sns\n",
    "from sklearn.model_selection import train_test_split\n",
    "import math"
   ]
  },
  {
   "cell_type": "markdown",
   "metadata": {
    "id": "ZICv_u1eAqZk"
   },
   "source": [
    "#Implementing Random Forest Algorithm"
   ]
  },
  {
   "cell_type": "markdown",
   "metadata": {
    "id": "DX2g3_HhAxDf"
   },
   "source": [
    "In this section we: </br>\n",
    "* Reused our previous DT implementation but adjusting it so it handles both categorical and numerical data. Also Implemented a mechanism to select (whenever a node is being split) m attributes at random from\n",
    "the complete set of attributes of an instance where m ≈√X; X is\n",
    "the total number of attributes composing each instance in the dataset\n",
    "* Implemented a procedure to create bootstrap datasets by sampling with replacement\n",
    "* Implemented the stratified cross-validation technique.\n",
    "* Created a method to evaluate the impact that the number of trees (i.e., the ntree hyper-parameter) has on the performance of your random forest.\n"
   ]
  },
  {
   "cell_type": "code",
   "execution_count": 49,
   "metadata": {
    "id": "ElhXgwbiAxlz"
   },
   "outputs": [],
   "source": [
    "class DT:\n",
    "    def __init__(self, max_depth=10, min_samples_leaf=1):\n",
    "        self.max_depth = max_depth\n",
    "        self.min_samples_leaf = min_samples_leaf\n",
    "        self.tree = None\n",
    "\n",
    "    def entropy(self, labels):\n",
    "        label, counts = np.unique(labels, return_counts=True)\n",
    "        prob = counts / counts.sum()\n",
    "        return -np.sum(prob * np.log2(prob))\n",
    "\n",
    "    def information_gain_numerical(self, labels, true_labels, false_labels):\n",
    "        prob = float(len(true_labels)) / len(labels)\n",
    "        info_gain = self.entropy(labels) - prob * self.entropy(true_labels) - (1 - prob) * self.entropy(false_labels)\n",
    "        return info_gain\n",
    "\n",
    "    def information_gain_categorical(self, labels, partitions):\n",
    "        values, counts = np.unique(partitions, return_counts=True)\n",
    "        avg_entropy_of_partitions = sum((counts[i] / sum(counts)) * self.entropy(labels[partitions == value]) for i, value in enumerate(values))\n",
    "        return self.entropy(labels) - avg_entropy_of_partitions\n",
    "\n",
    "    def best_split(self, features, labels, feature_types, min_info_gain=0.01):\n",
    "        best_gain = -np.inf\n",
    "        best_feature = None\n",
    "        best_split_val = None\n",
    "        m = int(math.sqrt(len(features.columns)))\n",
    "        m_features = np.random.choice(features.columns, m, replace=False)\n",
    "        for feature in m_features:\n",
    "            if feature_types[feature] == \"categorical\":\n",
    "                info_gain = self.information_gain_categorical(labels, features[feature])\n",
    "                if info_gain > best_gain and info_gain >= min_info_gain:\n",
    "                    best_gain, best_feature = info_gain, feature\n",
    "                    best_split_val = None\n",
    "            else:\n",
    "                sorted_indices = features[feature].sort_values().index\n",
    "                sorted_labels = labels.loc[sorted_indices]\n",
    "                sorted_features = features.loc[sorted_indices, feature]\n",
    "                for i in range(1, len(sorted_features)):\n",
    "                    if sorted_features.iloc[i] == sorted_features.iloc[i - 1]:\n",
    "                        continue\n",
    "                    split_val = (sorted_features.iloc[i] + sorted_features.iloc[i - 1]) / 2\n",
    "                    true_labels = sorted_labels[sorted_features <= split_val]\n",
    "                    false_labels = sorted_labels[sorted_features > split_val]\n",
    "                    info_gain = self.information_gain_numerical(labels, true_labels, false_labels)\n",
    "                    if info_gain > best_gain and info_gain >= min_info_gain:\n",
    "                        best_gain, best_feature, best_split_val = info_gain, feature, split_val\n",
    "        return best_feature, best_split_val\n",
    "\n",
    "    def build_dt(self, features, labels, feature_types, depth=0):\n",
    "        if len(np.unique(labels)) == 1 or len(features) < self.min_samples_leaf or (self.max_depth and depth >= self.max_depth):\n",
    "            return np.unique(labels)[0]\n",
    "        else:\n",
    "            best_feature, best_split_val = self.best_split(features, labels, feature_types)\n",
    "            if best_feature is None:\n",
    "                return np.unique(labels)[np.argmax(np.unique(labels, return_counts=True)[1])]\n",
    "            tree = {best_feature: {}}\n",
    "            if best_split_val is None:\n",
    "                for value in np.unique(features[best_feature]):\n",
    "                    subtree_features = features[features[best_feature] == value].drop(columns=[best_feature])\n",
    "                    subtree_labels = labels[features[best_feature] == value]\n",
    "                    subtree = self.build_dt(subtree_features, subtree_labels, feature_types, depth + 1)\n",
    "                    tree[best_feature][value] = subtree\n",
    "            else:\n",
    "                left_indices = features[best_feature] <= best_split_val\n",
    "                right_indices = features[best_feature] > best_split_val\n",
    "                left_subtree = self.build_dt(features[left_indices], labels[left_indices], feature_types, depth + 1)\n",
    "                right_subtree = self.build_dt(features[right_indices], labels[right_indices], feature_types, depth + 1)\n",
    "                tree[best_feature] = {\"<= {:.2f}\".format(best_split_val): left_subtree , \"> {:.2f}\".format(best_split_val): right_subtree}\n",
    "            return tree\n",
    "\n",
    "    def fit(self, features, labels, feature_types):\n",
    "        self.feature_types = feature_types\n",
    "        self.tree = self.build_dt(features, labels, feature_types)\n",
    "\n",
    "    def predict(self, dataset):\n",
    "        predictions = []\n",
    "        for _, instance in dataset.iterrows():\n",
    "            prediction = self.predict_helper(instance, self.tree)\n",
    "            predictions.append(prediction)\n",
    "        return np.array(predictions)\n",
    "\n",
    "    def predict_helper(self, instance, tree):\n",
    "        if not isinstance(tree, dict):\n",
    "            return tree\n",
    "        feature = next(iter(tree))\n",
    "        if self.feature_types[feature] == 'categorical':\n",
    "            if instance[feature] in tree[feature]:\n",
    "                return self.predict_helper(instance, tree[feature][instance[feature]])\n",
    "        else:\n",
    "            for key, subtree in tree[feature].items():\n",
    "                if key.startswith('<='):\n",
    "                    split_val = float(key.split('<= ')[1])\n",
    "                    if instance[feature] <= split_val:\n",
    "                        return self.predict_helper(instance, subtree)\n",
    "                elif key.startswith('>'):\n",
    "                    split_val = float(key.split('> ')[1])\n",
    "                    if instance[feature] > split_val:\n",
    "                        return self.predict_helper(instance, subtree)\n",
    "                else:\n",
    "                    if instance[feature] == key:\n",
    "                        return self.predict_helper(instance, subtree)\n",
    "        return np.nan\n",
    "\n"
   ]
  },
  {
   "cell_type": "code",
   "execution_count": 40,
   "metadata": {
    "id": "GEuYhQX0A0Sd"
   },
   "outputs": [],
   "source": [
    "class RandomForest:\n",
    "    def __init__(self, n_trees=10, max_depth=10, min_samples_leaf=1):\n",
    "        self.n_trees = n_trees\n",
    "        self.max_depth = max_depth\n",
    "        self.min_samples_leaf = min_samples_leaf\n",
    "        self.trees = []\n",
    "\n",
    "    def bootstrap(self, features, labels):\n",
    "        num_samples = features.shape[0]\n",
    "        indices = np.random.choice(num_samples, num_samples, replace=True)\n",
    "        return features.iloc[indices], labels.iloc[indices]\n",
    "\n",
    "    def fit(self, features, labels, feature_types):\n",
    "        self.trees = []\n",
    "        for _ in range(self.n_trees):\n",
    "            tree = DT(max_depth=self.max_depth, min_samples_leaf=self.min_samples_leaf)\n",
    "            features_sample, labels_sample = self.bootstrap(features, labels)\n",
    "            tree.fit(features_sample, labels_sample, feature_types)\n",
    "            self.trees.append(tree)\n",
    "\n",
    "    def predict(self, instances):\n",
    "        tree_preds = [tree.predict(instances) for tree in self.trees]\n",
    "        tree_preds = np.array(tree_preds).T\n",
    "        majority_votes = [self.most_common_label(pred) for pred in tree_preds]\n",
    "        return np.array(majority_votes)\n",
    "\n",
    "    def most_common_label(self, pred):\n",
    "        return Counter(pred).most_common(1)[0][0]"
   ]
  },
  {
   "cell_type": "code",
   "execution_count": 41,
   "metadata": {
    "id": "xAspqVr5A2h0"
   },
   "outputs": [],
   "source": [
    "def stratified_cross_validation(features, labels, k=10):\n",
    "    y = labels.to_numpy()\n",
    "    label_indices = [np.where(y == label)[0] for label in np.unique(y)]\n",
    "    folds = []\n",
    "    pairs = []\n",
    "    shuffled_label_indices = [np.random.permutation(label_list) for label_list in label_indices]\n",
    "    label_splits = [np.array_split(label_list, k) for label_list in shuffled_label_indices]\n",
    "    for fold_parts in zip(*label_splits):\n",
    "        fold = np.concatenate(fold_parts)\n",
    "        folds.append(fold)\n",
    "    for fold_index in range(k):\n",
    "        test_fold = folds[fold_index]\n",
    "        train_fold = np.concatenate([folds[i] for i in range(k) if i != fold_index])\n",
    "        pairs.append((train_fold, test_fold))\n",
    "    return pairs"
   ]
  },
  {
   "cell_type": "code",
   "execution_count": 42,
   "metadata": {
    "id": "wI8I3NPwA4x9"
   },
   "outputs": [],
   "source": [
    "def unique_labels_filter(true_labels):\n",
    "    filtered_labels = [label for label in true_labels if not np.isnan(label)]\n",
    "    return np.unique(filtered_labels)\n",
    "\n",
    "def mc_cm(true_labels, predictions, num_classes):\n",
    "    unique_labels = unique_labels_filter(true_labels)\n",
    "    label_to_index = {label: idx for idx, label in enumerate(unique_labels)}\n",
    "    confusion_matrix = [[0 for _ in range(num_classes)] for _ in range(num_classes)]\n",
    "    for true, pred in zip(true_labels, predictions):\n",
    "        if np.isnan(pred):\n",
    "            continue\n",
    "        true_idx = label_to_index[true]\n",
    "        pred_idx = label_to_index.get(pred, -1)\n",
    "        if pred_idx != -1:\n",
    "            confusion_matrix[true_idx][pred_idx] += 1\n",
    "    return confusion_matrix\n",
    "\n",
    "def metrics_calc(confusion_matrix):\n",
    "    metrics = {'precision': [], 'recall': [], 'f1': []}\n",
    "    for i in range(len(confusion_matrix)):\n",
    "        TP = confusion_matrix[i][i]\n",
    "        FN = sum(confusion_matrix[i][j] for j in range(len(confusion_matrix)) if j != i)\n",
    "        FP = sum(confusion_matrix[j][i] for j in range(len(confusion_matrix)) if j != i)\n",
    "        TN = sum(sum(confusion_matrix[j][k] for k in range(len(confusion_matrix)) if k != i) for j in range(len(confusion_matrix)) if j != i)\n",
    "        precision = TP / (TP + FP) if TP + FP > 0 else 0\n",
    "        recall = TP / (TP + FN) if TP + FN > 0 else 0\n",
    "        f1 = 2 * (precision * recall) / (precision + recall) if precision + recall > 0 else 0\n",
    "        metrics['f1'].append(f1)\n",
    "        metrics['precision'].append(precision)\n",
    "        metrics['recall'].append(recall)\n",
    "    for metric in metrics:\n",
    "        metrics[metric] = sum(metrics[metric]) / len(metrics[metric])\n",
    "    return metrics\n"
   ]
  },
  {
   "cell_type": "code",
   "execution_count": 43,
   "metadata": {
    "id": "Z6SDQPC3A8Y1"
   },
   "outputs": [],
   "source": [
    "def evaluate_rf(features, labels, feature_types, k=10, ntree=1):\n",
    "    scores = {'accuracy': [], 'precision': [], 'recall': [], 'f1': []}\n",
    "    pairs = stratified_cross_validation(features, labels, k=k)\n",
    "    num_classes = len(np.unique(labels))\n",
    "    for train_indices, test_indices in pairs:\n",
    "        features_train, labels_train = features.iloc[train_indices], labels.iloc[train_indices]\n",
    "        features_test, labels_test = features.iloc[test_indices], labels.iloc[test_indices]\n",
    "        ensemble = RandomForest(n_trees=ntree, max_depth=10, min_samples_leaf=1)\n",
    "        ensemble.fit(features_train, labels_train, feature_types)\n",
    "        predictions = ensemble.predict(features_test)\n",
    "        confusion_matrix = mc_cm(labels_test.to_numpy(), predictions, num_classes)\n",
    "        metrics = metrics_calc(confusion_matrix)\n",
    "        accuracy = sum(confusion_matrix[i][i] for i in range(num_classes)) / sum(sum(row) for row in confusion_matrix)\n",
    "        scores['accuracy'].append(accuracy)\n",
    "        scores['precision'].append(metrics['precision'])\n",
    "        scores['recall'].append(metrics['recall'])\n",
    "        scores['f1'].append(metrics['f1'])\n",
    "    avg_perf = {metric: np.mean(values) for metric, values in scores.items()}\n",
    "    return avg_perf\n"
   ]
  },
  {
   "cell_type": "markdown",
   "metadata": {
    "id": "py0KRcIjBDVW"
   },
   "source": [
    "#Analyzing The 1984 United States Congressional Voting Dataset"
   ]
  },
  {
   "cell_type": "markdown",
   "metadata": {
    "id": "lTD626tKBLYZ"
   },
   "source": [
    "The goal, here, is to predict the\n",
    "party (Democrat or Republican) of each U.S. House of Representatives Congressperson. The dataset is\n",
    "composed of 435 instances. Each instance is described by 16 categorical attributes, and there are 2\n",
    "classes.\n"
   ]
  },
  {
   "cell_type": "code",
   "execution_count": 44,
   "metadata": {
    "colab": {
     "base_uri": "https://localhost:8080/",
     "height": 278
    },
    "id": "CAbWGnY8A-8g",
    "outputId": "15c44590-837e-444d-e1a9-dc99b982e349"
   },
   "outputs": [
    {
     "data": {
      "application/vnd.google.colaboratory.intrinsic+json": {
       "summary": "{\n  \"name\": \"voting_dataset\",\n  \"rows\": 435,\n  \"fields\": [\n    {\n      \"column\": \"#handicapped-infants\",\n      \"properties\": {\n        \"dtype\": \"number\",\n        \"std\": 0,\n        \"min\": 0,\n        \"max\": 2,\n        \"num_unique_values\": 3,\n        \"samples\": [\n          1,\n          0,\n          2\n        ],\n        \"semantic_type\": \"\",\n        \"description\": \"\"\n      }\n    },\n    {\n      \"column\": \"water-project-cost-sharing\",\n      \"properties\": {\n        \"dtype\": \"number\",\n        \"std\": 0,\n        \"min\": 0,\n        \"max\": 2,\n        \"num_unique_values\": 3,\n        \"samples\": [\n          2,\n          1,\n          0\n        ],\n        \"semantic_type\": \"\",\n        \"description\": \"\"\n      }\n    },\n    {\n      \"column\": \"adoption-of-the-budget-resolution\",\n      \"properties\": {\n        \"dtype\": \"number\",\n        \"std\": 0,\n        \"min\": 0,\n        \"max\": 2,\n        \"num_unique_values\": 3,\n        \"samples\": [\n          1,\n          2,\n          0\n        ],\n        \"semantic_type\": \"\",\n        \"description\": \"\"\n      }\n    },\n    {\n      \"column\": \"physician-fee-freeze\",\n      \"properties\": {\n        \"dtype\": \"number\",\n        \"std\": 0,\n        \"min\": 0,\n        \"max\": 2,\n        \"num_unique_values\": 3,\n        \"samples\": [\n          2,\n          0,\n          1\n        ],\n        \"semantic_type\": \"\",\n        \"description\": \"\"\n      }\n    },\n    {\n      \"column\": \"el-salvador-adi\",\n      \"properties\": {\n        \"dtype\": \"number\",\n        \"std\": 0,\n        \"min\": 0,\n        \"max\": 2,\n        \"num_unique_values\": 3,\n        \"samples\": [\n          2,\n          0,\n          1\n        ],\n        \"semantic_type\": \"\",\n        \"description\": \"\"\n      }\n    },\n    {\n      \"column\": \"religious-groups-in-schools\",\n      \"properties\": {\n        \"dtype\": \"number\",\n        \"std\": 0,\n        \"min\": 0,\n        \"max\": 2,\n        \"num_unique_values\": 3,\n        \"samples\": [\n          2,\n          1,\n          0\n        ],\n        \"semantic_type\": \"\",\n        \"description\": \"\"\n      }\n    },\n    {\n      \"column\": \"anti-satellite-test-ban\",\n      \"properties\": {\n        \"dtype\": \"number\",\n        \"std\": 0,\n        \"min\": 0,\n        \"max\": 2,\n        \"num_unique_values\": 3,\n        \"samples\": [\n          1,\n          2,\n          0\n        ],\n        \"semantic_type\": \"\",\n        \"description\": \"\"\n      }\n    },\n    {\n      \"column\": \"aid-to-nicaraguan-contras\",\n      \"properties\": {\n        \"dtype\": \"number\",\n        \"std\": 0,\n        \"min\": 0,\n        \"max\": 2,\n        \"num_unique_values\": 3,\n        \"samples\": [\n          1,\n          2,\n          0\n        ],\n        \"semantic_type\": \"\",\n        \"description\": \"\"\n      }\n    },\n    {\n      \"column\": \"mx-missile\",\n      \"properties\": {\n        \"dtype\": \"number\",\n        \"std\": 0,\n        \"min\": 0,\n        \"max\": 2,\n        \"num_unique_values\": 3,\n        \"samples\": [\n          1,\n          2,\n          0\n        ],\n        \"semantic_type\": \"\",\n        \"description\": \"\"\n      }\n    },\n    {\n      \"column\": \"immigration\",\n      \"properties\": {\n        \"dtype\": \"number\",\n        \"std\": 0,\n        \"min\": 0,\n        \"max\": 2,\n        \"num_unique_values\": 3,\n        \"samples\": [\n          2,\n          1,\n          0\n        ],\n        \"semantic_type\": \"\",\n        \"description\": \"\"\n      }\n    },\n    {\n      \"column\": \"synfuels-corporation-cutback\",\n      \"properties\": {\n        \"dtype\": \"number\",\n        \"std\": 0,\n        \"min\": 0,\n        \"max\": 2,\n        \"num_unique_values\": 3,\n        \"samples\": [\n          0,\n          1,\n          2\n        ],\n        \"semantic_type\": \"\",\n        \"description\": \"\"\n      }\n    },\n    {\n      \"column\": \"education-spending\",\n      \"properties\": {\n        \"dtype\": \"number\",\n        \"std\": 0,\n        \"min\": 0,\n        \"max\": 2,\n        \"num_unique_values\": 3,\n        \"samples\": [\n          2,\n          1,\n          0\n        ],\n        \"semantic_type\": \"\",\n        \"description\": \"\"\n      }\n    },\n    {\n      \"column\": \"superfund-right-to-sue\",\n      \"properties\": {\n        \"dtype\": \"number\",\n        \"std\": 0,\n        \"min\": 0,\n        \"max\": 2,\n        \"num_unique_values\": 3,\n        \"samples\": [\n          2,\n          0,\n          1\n        ],\n        \"semantic_type\": \"\",\n        \"description\": \"\"\n      }\n    },\n    {\n      \"column\": \"crime\",\n      \"properties\": {\n        \"dtype\": \"number\",\n        \"std\": 0,\n        \"min\": 0,\n        \"max\": 2,\n        \"num_unique_values\": 3,\n        \"samples\": [\n          2,\n          1,\n          0\n        ],\n        \"semantic_type\": \"\",\n        \"description\": \"\"\n      }\n    },\n    {\n      \"column\": \"duty-free-exports\",\n      \"properties\": {\n        \"dtype\": \"number\",\n        \"std\": 0,\n        \"min\": 0,\n        \"max\": 2,\n        \"num_unique_values\": 3,\n        \"samples\": [\n          1,\n          2,\n          0\n        ],\n        \"semantic_type\": \"\",\n        \"description\": \"\"\n      }\n    },\n    {\n      \"column\": \"export-administration-act-south-africa\",\n      \"properties\": {\n        \"dtype\": \"number\",\n        \"std\": 0,\n        \"min\": 0,\n        \"max\": 2,\n        \"num_unique_values\": 3,\n        \"samples\": [\n          2,\n          0,\n          1\n        ],\n        \"semantic_type\": \"\",\n        \"description\": \"\"\n      }\n    },\n    {\n      \"column\": \"class\",\n      \"properties\": {\n        \"dtype\": \"number\",\n        \"std\": 0,\n        \"min\": 0,\n        \"max\": 1,\n        \"num_unique_values\": 2,\n        \"samples\": [\n          0,\n          1\n        ],\n        \"semantic_type\": \"\",\n        \"description\": \"\"\n      }\n    }\n  ]\n}",
       "type": "dataframe",
       "variable_name": "voting_dataset"
      },
      "text/html": [
       "\n",
       "  <div id=\"df-6726b69b-d13d-4c26-a85a-8d37f49a1e08\" class=\"colab-df-container\">\n",
       "    <div>\n",
       "<style scoped>\n",
       "    .dataframe tbody tr th:only-of-type {\n",
       "        vertical-align: middle;\n",
       "    }\n",
       "\n",
       "    .dataframe tbody tr th {\n",
       "        vertical-align: top;\n",
       "    }\n",
       "\n",
       "    .dataframe thead th {\n",
       "        text-align: right;\n",
       "    }\n",
       "</style>\n",
       "<table border=\"1\" class=\"dataframe\">\n",
       "  <thead>\n",
       "    <tr style=\"text-align: right;\">\n",
       "      <th></th>\n",
       "      <th>#handicapped-infants</th>\n",
       "      <th>water-project-cost-sharing</th>\n",
       "      <th>adoption-of-the-budget-resolution</th>\n",
       "      <th>physician-fee-freeze</th>\n",
       "      <th>el-salvador-adi</th>\n",
       "      <th>religious-groups-in-schools</th>\n",
       "      <th>anti-satellite-test-ban</th>\n",
       "      <th>aid-to-nicaraguan-contras</th>\n",
       "      <th>mx-missile</th>\n",
       "      <th>immigration</th>\n",
       "      <th>synfuels-corporation-cutback</th>\n",
       "      <th>education-spending</th>\n",
       "      <th>superfund-right-to-sue</th>\n",
       "      <th>crime</th>\n",
       "      <th>duty-free-exports</th>\n",
       "      <th>export-administration-act-south-africa</th>\n",
       "      <th>class</th>\n",
       "    </tr>\n",
       "  </thead>\n",
       "  <tbody>\n",
       "    <tr>\n",
       "      <th>0</th>\n",
       "      <td>1</td>\n",
       "      <td>2</td>\n",
       "      <td>1</td>\n",
       "      <td>2</td>\n",
       "      <td>2</td>\n",
       "      <td>2</td>\n",
       "      <td>1</td>\n",
       "      <td>1</td>\n",
       "      <td>1</td>\n",
       "      <td>2</td>\n",
       "      <td>0</td>\n",
       "      <td>2</td>\n",
       "      <td>2</td>\n",
       "      <td>2</td>\n",
       "      <td>1</td>\n",
       "      <td>2</td>\n",
       "      <td>1</td>\n",
       "    </tr>\n",
       "    <tr>\n",
       "      <th>1</th>\n",
       "      <td>1</td>\n",
       "      <td>2</td>\n",
       "      <td>1</td>\n",
       "      <td>2</td>\n",
       "      <td>2</td>\n",
       "      <td>2</td>\n",
       "      <td>1</td>\n",
       "      <td>1</td>\n",
       "      <td>1</td>\n",
       "      <td>1</td>\n",
       "      <td>1</td>\n",
       "      <td>2</td>\n",
       "      <td>2</td>\n",
       "      <td>2</td>\n",
       "      <td>1</td>\n",
       "      <td>0</td>\n",
       "      <td>1</td>\n",
       "    </tr>\n",
       "    <tr>\n",
       "      <th>2</th>\n",
       "      <td>0</td>\n",
       "      <td>2</td>\n",
       "      <td>2</td>\n",
       "      <td>0</td>\n",
       "      <td>2</td>\n",
       "      <td>2</td>\n",
       "      <td>1</td>\n",
       "      <td>1</td>\n",
       "      <td>1</td>\n",
       "      <td>1</td>\n",
       "      <td>2</td>\n",
       "      <td>1</td>\n",
       "      <td>2</td>\n",
       "      <td>2</td>\n",
       "      <td>1</td>\n",
       "      <td>1</td>\n",
       "      <td>0</td>\n",
       "    </tr>\n",
       "    <tr>\n",
       "      <th>3</th>\n",
       "      <td>1</td>\n",
       "      <td>2</td>\n",
       "      <td>2</td>\n",
       "      <td>1</td>\n",
       "      <td>0</td>\n",
       "      <td>2</td>\n",
       "      <td>1</td>\n",
       "      <td>1</td>\n",
       "      <td>1</td>\n",
       "      <td>1</td>\n",
       "      <td>2</td>\n",
       "      <td>1</td>\n",
       "      <td>2</td>\n",
       "      <td>1</td>\n",
       "      <td>1</td>\n",
       "      <td>2</td>\n",
       "      <td>0</td>\n",
       "    </tr>\n",
       "    <tr>\n",
       "      <th>4</th>\n",
       "      <td>2</td>\n",
       "      <td>2</td>\n",
       "      <td>2</td>\n",
       "      <td>1</td>\n",
       "      <td>2</td>\n",
       "      <td>2</td>\n",
       "      <td>1</td>\n",
       "      <td>1</td>\n",
       "      <td>1</td>\n",
       "      <td>1</td>\n",
       "      <td>2</td>\n",
       "      <td>0</td>\n",
       "      <td>2</td>\n",
       "      <td>2</td>\n",
       "      <td>2</td>\n",
       "      <td>2</td>\n",
       "      <td>0</td>\n",
       "    </tr>\n",
       "  </tbody>\n",
       "</table>\n",
       "</div>\n",
       "    <div class=\"colab-df-buttons\">\n",
       "\n",
       "  <div class=\"colab-df-container\">\n",
       "    <button class=\"colab-df-convert\" onclick=\"convertToInteractive('df-6726b69b-d13d-4c26-a85a-8d37f49a1e08')\"\n",
       "            title=\"Convert this dataframe to an interactive table.\"\n",
       "            style=\"display:none;\">\n",
       "\n",
       "  <svg xmlns=\"http://www.w3.org/2000/svg\" height=\"24px\" viewBox=\"0 -960 960 960\">\n",
       "    <path d=\"M120-120v-720h720v720H120Zm60-500h600v-160H180v160Zm220 220h160v-160H400v160Zm0 220h160v-160H400v160ZM180-400h160v-160H180v160Zm440 0h160v-160H620v160ZM180-180h160v-160H180v160Zm440 0h160v-160H620v160Z\"/>\n",
       "  </svg>\n",
       "    </button>\n",
       "\n",
       "  <style>\n",
       "    .colab-df-container {\n",
       "      display:flex;\n",
       "      gap: 12px;\n",
       "    }\n",
       "\n",
       "    .colab-df-convert {\n",
       "      background-color: #E8F0FE;\n",
       "      border: none;\n",
       "      border-radius: 50%;\n",
       "      cursor: pointer;\n",
       "      display: none;\n",
       "      fill: #1967D2;\n",
       "      height: 32px;\n",
       "      padding: 0 0 0 0;\n",
       "      width: 32px;\n",
       "    }\n",
       "\n",
       "    .colab-df-convert:hover {\n",
       "      background-color: #E2EBFA;\n",
       "      box-shadow: 0px 1px 2px rgba(60, 64, 67, 0.3), 0px 1px 3px 1px rgba(60, 64, 67, 0.15);\n",
       "      fill: #174EA6;\n",
       "    }\n",
       "\n",
       "    .colab-df-buttons div {\n",
       "      margin-bottom: 4px;\n",
       "    }\n",
       "\n",
       "    [theme=dark] .colab-df-convert {\n",
       "      background-color: #3B4455;\n",
       "      fill: #D2E3FC;\n",
       "    }\n",
       "\n",
       "    [theme=dark] .colab-df-convert:hover {\n",
       "      background-color: #434B5C;\n",
       "      box-shadow: 0px 1px 3px 1px rgba(0, 0, 0, 0.15);\n",
       "      filter: drop-shadow(0px 1px 2px rgba(0, 0, 0, 0.3));\n",
       "      fill: #FFFFFF;\n",
       "    }\n",
       "  </style>\n",
       "\n",
       "    <script>\n",
       "      const buttonEl =\n",
       "        document.querySelector('#df-6726b69b-d13d-4c26-a85a-8d37f49a1e08 button.colab-df-convert');\n",
       "      buttonEl.style.display =\n",
       "        google.colab.kernel.accessAllowed ? 'block' : 'none';\n",
       "\n",
       "      async function convertToInteractive(key) {\n",
       "        const element = document.querySelector('#df-6726b69b-d13d-4c26-a85a-8d37f49a1e08');\n",
       "        const dataTable =\n",
       "          await google.colab.kernel.invokeFunction('convertToInteractive',\n",
       "                                                    [key], {});\n",
       "        if (!dataTable) return;\n",
       "\n",
       "        const docLinkHtml = 'Like what you see? Visit the ' +\n",
       "          '<a target=\"_blank\" href=https://colab.research.google.com/notebooks/data_table.ipynb>data table notebook</a>'\n",
       "          + ' to learn more about interactive tables.';\n",
       "        element.innerHTML = '';\n",
       "        dataTable['output_type'] = 'display_data';\n",
       "        await google.colab.output.renderOutput(dataTable, element);\n",
       "        const docLink = document.createElement('div');\n",
       "        docLink.innerHTML = docLinkHtml;\n",
       "        element.appendChild(docLink);\n",
       "      }\n",
       "    </script>\n",
       "  </div>\n",
       "\n",
       "\n",
       "<div id=\"df-bc79ce94-f172-4c16-871c-bf0090c0ab6a\">\n",
       "  <button class=\"colab-df-quickchart\" onclick=\"quickchart('df-bc79ce94-f172-4c16-871c-bf0090c0ab6a')\"\n",
       "            title=\"Suggest charts\"\n",
       "            style=\"display:none;\">\n",
       "\n",
       "<svg xmlns=\"http://www.w3.org/2000/svg\" height=\"24px\"viewBox=\"0 0 24 24\"\n",
       "     width=\"24px\">\n",
       "    <g>\n",
       "        <path d=\"M19 3H5c-1.1 0-2 .9-2 2v14c0 1.1.9 2 2 2h14c1.1 0 2-.9 2-2V5c0-1.1-.9-2-2-2zM9 17H7v-7h2v7zm4 0h-2V7h2v10zm4 0h-2v-4h2v4z\"/>\n",
       "    </g>\n",
       "</svg>\n",
       "  </button>\n",
       "\n",
       "<style>\n",
       "  .colab-df-quickchart {\n",
       "      --bg-color: #E8F0FE;\n",
       "      --fill-color: #1967D2;\n",
       "      --hover-bg-color: #E2EBFA;\n",
       "      --hover-fill-color: #174EA6;\n",
       "      --disabled-fill-color: #AAA;\n",
       "      --disabled-bg-color: #DDD;\n",
       "  }\n",
       "\n",
       "  [theme=dark] .colab-df-quickchart {\n",
       "      --bg-color: #3B4455;\n",
       "      --fill-color: #D2E3FC;\n",
       "      --hover-bg-color: #434B5C;\n",
       "      --hover-fill-color: #FFFFFF;\n",
       "      --disabled-bg-color: #3B4455;\n",
       "      --disabled-fill-color: #666;\n",
       "  }\n",
       "\n",
       "  .colab-df-quickchart {\n",
       "    background-color: var(--bg-color);\n",
       "    border: none;\n",
       "    border-radius: 50%;\n",
       "    cursor: pointer;\n",
       "    display: none;\n",
       "    fill: var(--fill-color);\n",
       "    height: 32px;\n",
       "    padding: 0;\n",
       "    width: 32px;\n",
       "  }\n",
       "\n",
       "  .colab-df-quickchart:hover {\n",
       "    background-color: var(--hover-bg-color);\n",
       "    box-shadow: 0 1px 2px rgba(60, 64, 67, 0.3), 0 1px 3px 1px rgba(60, 64, 67, 0.15);\n",
       "    fill: var(--button-hover-fill-color);\n",
       "  }\n",
       "\n",
       "  .colab-df-quickchart-complete:disabled,\n",
       "  .colab-df-quickchart-complete:disabled:hover {\n",
       "    background-color: var(--disabled-bg-color);\n",
       "    fill: var(--disabled-fill-color);\n",
       "    box-shadow: none;\n",
       "  }\n",
       "\n",
       "  .colab-df-spinner {\n",
       "    border: 2px solid var(--fill-color);\n",
       "    border-color: transparent;\n",
       "    border-bottom-color: var(--fill-color);\n",
       "    animation:\n",
       "      spin 1s steps(1) infinite;\n",
       "  }\n",
       "\n",
       "  @keyframes spin {\n",
       "    0% {\n",
       "      border-color: transparent;\n",
       "      border-bottom-color: var(--fill-color);\n",
       "      border-left-color: var(--fill-color);\n",
       "    }\n",
       "    20% {\n",
       "      border-color: transparent;\n",
       "      border-left-color: var(--fill-color);\n",
       "      border-top-color: var(--fill-color);\n",
       "    }\n",
       "    30% {\n",
       "      border-color: transparent;\n",
       "      border-left-color: var(--fill-color);\n",
       "      border-top-color: var(--fill-color);\n",
       "      border-right-color: var(--fill-color);\n",
       "    }\n",
       "    40% {\n",
       "      border-color: transparent;\n",
       "      border-right-color: var(--fill-color);\n",
       "      border-top-color: var(--fill-color);\n",
       "    }\n",
       "    60% {\n",
       "      border-color: transparent;\n",
       "      border-right-color: var(--fill-color);\n",
       "    }\n",
       "    80% {\n",
       "      border-color: transparent;\n",
       "      border-right-color: var(--fill-color);\n",
       "      border-bottom-color: var(--fill-color);\n",
       "    }\n",
       "    90% {\n",
       "      border-color: transparent;\n",
       "      border-bottom-color: var(--fill-color);\n",
       "    }\n",
       "  }\n",
       "</style>\n",
       "\n",
       "  <script>\n",
       "    async function quickchart(key) {\n",
       "      const quickchartButtonEl =\n",
       "        document.querySelector('#' + key + ' button');\n",
       "      quickchartButtonEl.disabled = true;  // To prevent multiple clicks.\n",
       "      quickchartButtonEl.classList.add('colab-df-spinner');\n",
       "      try {\n",
       "        const charts = await google.colab.kernel.invokeFunction(\n",
       "            'suggestCharts', [key], {});\n",
       "      } catch (error) {\n",
       "        console.error('Error during call to suggestCharts:', error);\n",
       "      }\n",
       "      quickchartButtonEl.classList.remove('colab-df-spinner');\n",
       "      quickchartButtonEl.classList.add('colab-df-quickchart-complete');\n",
       "    }\n",
       "    (() => {\n",
       "      let quickchartButtonEl =\n",
       "        document.querySelector('#df-bc79ce94-f172-4c16-871c-bf0090c0ab6a button');\n",
       "      quickchartButtonEl.style.display =\n",
       "        google.colab.kernel.accessAllowed ? 'block' : 'none';\n",
       "    })();\n",
       "  </script>\n",
       "</div>\n",
       "\n",
       "    </div>\n",
       "  </div>\n"
      ],
      "text/plain": [
       "   #handicapped-infants  water-project-cost-sharing  \\\n",
       "0                     1                           2   \n",
       "1                     1                           2   \n",
       "2                     0                           2   \n",
       "3                     1                           2   \n",
       "4                     2                           2   \n",
       "\n",
       "   adoption-of-the-budget-resolution  physician-fee-freeze  el-salvador-adi  \\\n",
       "0                                  1                     2                2   \n",
       "1                                  1                     2                2   \n",
       "2                                  2                     0                2   \n",
       "3                                  2                     1                0   \n",
       "4                                  2                     1                2   \n",
       "\n",
       "   religious-groups-in-schools  anti-satellite-test-ban  \\\n",
       "0                            2                        1   \n",
       "1                            2                        1   \n",
       "2                            2                        1   \n",
       "3                            2                        1   \n",
       "4                            2                        1   \n",
       "\n",
       "   aid-to-nicaraguan-contras  mx-missile  immigration  \\\n",
       "0                          1           1            2   \n",
       "1                          1           1            1   \n",
       "2                          1           1            1   \n",
       "3                          1           1            1   \n",
       "4                          1           1            1   \n",
       "\n",
       "   synfuels-corporation-cutback  education-spending  superfund-right-to-sue  \\\n",
       "0                             0                   2                       2   \n",
       "1                             1                   2                       2   \n",
       "2                             2                   1                       2   \n",
       "3                             2                   1                       2   \n",
       "4                             2                   0                       2   \n",
       "\n",
       "   crime  duty-free-exports  export-administration-act-south-africa  class  \n",
       "0      2                  1                                       2      1  \n",
       "1      2                  1                                       0      1  \n",
       "2      2                  1                                       1      0  \n",
       "3      1                  1                                       2      0  \n",
       "4      2                  2                                       2      0  "
      ]
     },
     "execution_count": 44,
     "metadata": {},
     "output_type": "execute_result"
    }
   ],
   "source": [
    "voting_dataset = pd.read_csv('datasets/hw3_house_votes_84.csv')\n",
    "voting_dataset.head()"
   ]
  },
  {
   "cell_type": "code",
   "execution_count": 45,
   "metadata": {
    "colab": {
     "base_uri": "https://localhost:8080/"
    },
    "id": "BDqUrzpkBYS7",
    "outputId": "a7fb716c-4af3-4f8d-9948-134a6dc8ca09"
   },
   "outputs": [
    {
     "data": {
      "text/plain": [
       "class\n",
       "0    267\n",
       "1    168\n",
       "dtype: int64"
      ]
     },
     "execution_count": 45,
     "metadata": {},
     "output_type": "execute_result"
    }
   ],
   "source": [
    "voting_dataset.groupby('class').size()"
   ]
  },
  {
   "cell_type": "code",
   "execution_count": 46,
   "metadata": {
    "colab": {
     "base_uri": "https://localhost:8080/"
    },
    "id": "vD5rmKQ7BpuZ",
    "outputId": "b747b140-1c91-482f-f681-3f1d84bfc697"
   },
   "outputs": [
    {
     "data": {
      "text/plain": [
       "435"
      ]
     },
     "execution_count": 46,
     "metadata": {},
     "output_type": "execute_result"
    }
   ],
   "source": [
    "num_instances = len(voting_dataset)\n",
    "num_instances"
   ]
  },
  {
   "cell_type": "code",
   "execution_count": 47,
   "metadata": {
    "colab": {
     "base_uri": "https://localhost:8080/"
    },
    "id": "6yNVkcfRBu2J",
    "outputId": "e620b162-3fe0-4ec5-c559-a448b4539f57"
   },
   "outputs": [
    {
     "data": {
      "text/plain": [
       "{'#handicapped-infants': 'categorical',\n",
       " 'water-project-cost-sharing': 'categorical',\n",
       " 'adoption-of-the-budget-resolution': 'categorical',\n",
       " 'physician-fee-freeze': 'categorical',\n",
       " 'el-salvador-adi': 'categorical',\n",
       " 'religious-groups-in-schools': 'categorical',\n",
       " 'anti-satellite-test-ban': 'categorical',\n",
       " 'aid-to-nicaraguan-contras': 'categorical',\n",
       " 'mx-missile': 'categorical',\n",
       " 'immigration': 'categorical',\n",
       " 'synfuels-corporation-cutback': 'categorical',\n",
       " 'education-spending': 'categorical',\n",
       " 'superfund-right-to-sue': 'categorical',\n",
       " 'crime': 'categorical',\n",
       " 'duty-free-exports': 'categorical',\n",
       " 'export-administration-act-south-africa': 'categorical'}"
      ]
     },
     "execution_count": 47,
     "metadata": {},
     "output_type": "execute_result"
    }
   ],
   "source": [
    "voting_features = voting_dataset.drop('class', axis=1)\n",
    "voting_labels = voting_dataset['class']\n",
    "voting_feature_types = {}\n",
    "for column in voting_dataset.columns:\n",
    "    if column == 'class':\n",
    "        continue\n",
    "    voting_feature_types[column] = 'categorical'\n",
    "voting_feature_types"
   ]
  },
  {
   "cell_type": "markdown",
   "metadata": {
    "id": "M-tysB0mCxcp"
   },
   "source": [
    "**Using max_depth=10, min_samples_leaf=1 and min_info_gain=0.01 as stopping criterion**"
   ]
  },
  {
   "cell_type": "code",
   "execution_count": 48,
   "metadata": {
    "colab": {
     "base_uri": "https://localhost:8080/"
    },
    "id": "9FSYCMOfCtjN",
    "outputId": "38274207-e8be-46ae-aa1a-5e01c78703c3"
   },
   "outputs": [
    {
     "name": "stdout",
     "output_type": "stream",
     "text": [
      "Metrics for a value of ntree = 1: {'accuracy': 0.9392745418695503, 'precision': 0.9373634836275391, 'recall': 0.9364784648902296, 'f1': 0.9354331632774235}\n"
     ]
    }
   ],
   "source": [
    "average_performance_1 = evaluate_rf(voting_features, voting_labels, voting_feature_types, k=10, ntree=1)\n",
    "print(f\"Metrics for a value of ntree = {1}: {average_performance_1}\")\n"
   ]
  },
  {
   "cell_type": "code",
   "execution_count": 35,
   "metadata": {
    "colab": {
     "base_uri": "https://localhost:8080/"
    },
    "id": "lZkyBlj5EgPL",
    "outputId": "09e165a7-7ea8-4e66-ebae-2951ff64eeb9"
   },
   "outputs": [
    {
     "name": "stdout",
     "output_type": "stream",
     "text": [
      "Metrics for a value of ntree = 1: {'accuracy': 0.9187580239764017, 'precision': 0.9193586235562989, 'recall': 0.9135293698676052, 'f1': 0.913751591700634}\n",
      "Metrics for a value of ntree = 5: {'accuracy': 0.9518423437028088, 'precision': 0.9515718020226533, 'recall': 0.9506844938830232, 'f1': 0.9495117682040816}\n",
      "Metrics for a value of ntree = 10: {'accuracy': 0.953521091311789, 'precision': 0.9512967032967035, 'recall': 0.9533109183844477, 'f1': 0.9515038701586981}\n",
      "Metrics for a value of ntree = 20: {'accuracy': 0.9515730393637372, 'precision': 0.9502898335038429, 'recall': 0.9516313683593094, 'f1': 0.9490521110292791}\n",
      "Metrics for a value of ntree = 30: {'accuracy': 0.9566042484647136, 'precision': 0.9535155249234197, 'recall': 0.9579525934305346, 'f1': 0.9545731141111544}\n",
      "Metrics for a value of ntree = 40: {'accuracy': 0.9585523004127655, 'precision': 0.9583781451991659, 'recall': 0.9562814228255405, 'f1': 0.9561589282028489}\n",
      "Metrics for a value of ntree = 50: {'accuracy': 0.9539011376220679, 'precision': 0.9517767842179607, 'recall': 0.953667043740573, 'f1': 0.9516081516392552}\n"
     ]
    }
   ],
   "source": [
    "ntree_values = [1, 5, 10, 20, 30, 40, 50]\n",
    "metrics_results = {'ntree': [], 'accuracy': [], 'precision': [], 'recall': [], 'f1': []}\n",
    "for ntree in ntree_values:\n",
    "    average_performance = evaluate_rf(voting_features, voting_labels, voting_feature_types, k=10, ntree=ntree)\n",
    "    metrics_results['ntree'].append(ntree)\n",
    "    metrics_results['accuracy'].append(average_performance['accuracy'])\n",
    "    metrics_results['precision'].append(average_performance['precision'])\n",
    "    metrics_results['recall'].append(average_performance['recall'])\n",
    "    metrics_results['f1'].append(average_performance['f1'])\n",
    "    print(f\"Metrics for a value of ntree = {ntree}: {average_performance}\")\n"
   ]
  },
  {
   "cell_type": "code",
   "execution_count": 36,
   "metadata": {
    "colab": {
     "base_uri": "https://localhost:8080/",
     "height": 810
    },
    "id": "CyDWbnCzkz_k",
    "outputId": "eb9f527a-2324-4678-c59f-1554d06f08bf"
   },
   "outputs": [
    {
     "data": {
      "image/png": "[encoded data removed]",
      "text/plain": [
       "<Figure size 1400x1000 with 4 Axes>"
      ]
     },
     "metadata": {},
     "output_type": "display_data"
    }
   ],
   "source": [
    "def plot(metrics):\n",
    "    plt.figure(figsize=(14, 10))\n",
    "    titles = ['Accuracy', 'Precision', 'Recall', 'F1 Score']\n",
    "    for i, metric in enumerate(['accuracy', 'precision', 'recall', 'f1'], start=1):\n",
    "        plt.subplot(2, 2, i)\n",
    "        plt.plot(metrics['ntree'], metrics[metric], marker='o', linestyle='-', color='b')\n",
    "        plt.title(f'RF {titles[i-1]} as a function of ntree')\n",
    "        plt.xlabel('ntree')\n",
    "        plt.ylabel(titles[i-1])\n",
    "        plt.xticks(metrics_results['ntree'])\n",
    "        plt.grid(True)\n",
    "    plt.tight_layout()\n",
    "    plt.show()\n",
    "plot(metrics_results)"
   ]
  },
  {
   "cell_type": "markdown",
   "metadata": {
    "id": "A0UIGapRk_go"
   },
   "source": [
    "**4.** For each metric being evaluated (and for each dataset), discuss which value of ntree you would\n",
    "select if you were to deploy this classifier in real life. Explain your reasoning."
   ]
  },
  {
   "cell_type": "markdown",
   "metadata": {
    "id": "r81jZBliy00a"
   },
   "source": [
    "So in this notebook (section) we're dealing with The 1984 United States Congressional Voting Dataset. Based on the metric results obtained above for each value of ntree and loking at the plots generated our primary goal is to understand how the number of trees (ntree) affects key performance metrics such as accuracy, precision, recall, and F1 score. Let's discuss for each metric being evaluated what value of ntree we would select if we were to deplot this in real life:\n",
    "\n",
    "Accuracy was observed to peak at ntree = 40 with a score of 0.958. After this point, increasing the number of trees seem to affect accuracy in a negative way (decreasing ). The value of accuracy for ntree = 30 is 0.956 which is really close to the the one for ntree = 40, however since it doesn't take too much mroe running time one could argue that it's worth the extra accuracy.  Hence for 40 the model's ability to correctly classify instances is the best. Accuracy is important because it provides us with a general measure of how often the classifier is correct across both classes. In our case for political prediction we should ensure that the model has a high accuracy and that its balanced across classes. Given that accuracy is and considering computational efficiency, ntree=40 appears to be a well-rounded choice for general purposes.\n",
    "\n",
    "Precision was observed to peak at ntree = 40 with a score of 0.958. Precison measures how accurate the predicitons are when the model predicts a specific class. For instance, when predicting a Congressperson is a Democrat, precision tells us how many of those predicted as Democrats are actually Democrats. Thus, this metric is important when the consequences of FP  are significant. Targeting strategies based on incorrect party prediction could lead to wastage of resources, hence precision also matters and we should aim to maximize it as much as we can.  The running time doesn't take much longer while increasing ntree in this case, so I don't see the downside of choosing this ntree = 40 for value.\n",
    "\n",
    "Recall was at its maximum at ntree = 30 with a score of 0.9579. Recall captures all relevant instances of a given class. For example, it gives us how many let's say of the actual Democrtas were correctly classified by our model. This is important in scenarios where missing out on a class instance has more consequences than missclassifying an instance.  However, this optimal point ntree = 30 for recall does not exactly match the optimal values identified for accuracy or precision, which peaked at ntree = 40. This discrepancy shows the tradeoff between ensuring that no party member is overlooked (high recall) and maintaining overall model accuracy and precision. I think that opting for a slightly higher ntree (40) might be a better choice if we were to deploy this in real life and in the context of voting even if  slight preference might be given to recall to ensure comprehensive coverage of party members given the political implications. This approach leverages the benefits of higher accuracy and precision provided by more trees while accepting a very small compromise in recall. The model remains robust across all metrics.\n",
    "\n",
    "The F1 score, which balances precision and recall, peaked at ntree = 40 with a score of 0.956. Hence, ntree = 40 is indeed the best choice in this case: it ensures a balanced and fair tradeoff between precision and recall. The running time doesn't take much longer while increasing ntree in this case, so I don't see the downside of choosing this for value.\n",
    "\n",
    "To sum up, based on the analysis, ntree = 40 is the recommended value for deploying this classifier. This choice is supported by the somewhat highest performance across all evaluated metrics. Further increases in ntree may not justify the marginal gains across the metrics due to increased computational demand and even decrease in performance. Using too many trees >40 in this context risks overfitting, where the model becomes too complex, capturing noise making the model less generalizable"
   ]
  },
  {
   "cell_type": "markdown",
   "metadata": {
    "id": "efX8SpGjlDH8"
   },
   "source": [
    "*5.* Discuss (on a high level) which metrics were more directly affected by changing the value of\n",
    "ntree and, more generally, how such changes affected the performance of your algorithm. For\n",
    "instance: was the accuracy of the random forest particularly sensitive to increasing ntree past a\n",
    "given value? Was the F1 score a “harder” metric to optimize, possibly requiring a significant\n",
    "number of trees in the ensemble? Is there a point beyond which adding more trees does not\n",
    "improve performance—or makes the performance worse?\n"
   ]
  },
  {
   "cell_type": "markdown",
   "metadata": {
    "id": "iuN0nFgSBDLY"
   },
   "source": [
    "All metrics more or less were directly affected by changing the value of ntree. Both accuracy and precision showed improvements as ntree increased, up to ntree = 40. So we can say that adding more trees up to this threshold generally helps the model make more correct classifications and more reliable positive predictions. However, we saw that past this optimal point, those metrics decreased, showing that there is a ceiling when reached adding more trees becomes counterproductive.\n",
    "\n",
    "Recall was somewhat slightly less sensitive to increases in ntree compared to accuracy and precision. The optimal point for recall was lower than that for accuracy and precision ntree = 30, suggesting that recall might be maximized with fewer trees. We can say minimizing FP or in other words recall, does not benefit as much from theincrease in the number of trees beyond a certain point.\n",
    "\n",
    "The F1 score, which balances precision and recall, was optimized at ntree = 40 similar to precision and accuracy, we can possibly deduce that the F1 score might follow the trend of precision and accuracy more closely than recall in response to increasing ntree. (at leaast in our case).\n",
    "\n",
    "The model starts to overfit for ntree > 40 capturing noise. It becomes less generalizable to new instances and leads to a decrease across all metrics. Also there is a  high computational cost that's not justified when it comes to performance gains. So, 40 is our threshhold here that  balances the tradeoff of being enough complex but not too complex so it's prone to overfitting."
   ]
  },
  {
   "cell_type": "code",
   "execution_count": null,
   "metadata": {
    "id": "0qTSl8QWDiWV"
   },
   "outputs": [],
   "source": []
  }
 ],
 "metadata": {
  "colab": {
   "provenance": [],
   "toc_visible": true
  },
  "kernelspec": {
   "display_name": "Python 3 (ipykernel)",
   "language": "python",
   "name": "python3"
  },
  "language_info": {
   "codemirror_mode": {
    "name": "ipython",
    "version": 3
   },
   "file_extension": ".py",
   "mimetype": "text/x-python",
   "name": "python",
   "nbconvert_exporter": "python",
   "pygments_lexer": "ipython3",
   "version": "3.7.16"
  }
 },
 "nbformat": 4,
 "nbformat_minor": 1
}
