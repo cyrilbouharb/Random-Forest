{
 "cells": [
  {
   "cell_type": "code",
   "execution_count": 1,
   "metadata": {
    "colab": {
     "base_uri": "https://localhost:8080/"
    },
    "id": "W7_7HKQqPU1u",
    "outputId": "17f42599-5e2f-4ed1-94ee-ea98c0ecfbf2"
   },
   "outputs": [
    {
     "name": "stdout",
     "output_type": "stream",
     "text": [
      "Archive:  /content/hw3.zip\n",
      "  inflating: HW3.tex                 \n",
      "  inflating: __MACOSX/._HW3.tex      \n",
      "   creating: datasets/\n",
      "  inflating: __MACOSX/._datasets     \n",
      "  inflating: datasets/hw3_cancer.csv  \n",
      "  inflating: __MACOSX/datasets/._hw3_cancer.csv  \n",
      "  inflating: datasets/hw3_house_votes_84.csv  \n",
      "  inflating: __MACOSX/datasets/._hw3_house_votes_84.csv  \n",
      "  inflating: datasets/hw3_wine.csv   \n",
      "  inflating: __MACOSX/datasets/._hw3_wine.csv  \n",
      "   creating: figures/\n",
      "  inflating: figures/cross_val_stratified2.png  \n",
      "  inflating: __MACOSX/figures/._cross_val_stratified2.png  \n"
     ]
    }
   ],
   "source": [
    "!unzip '/content/hw3.zip'"
   ]
  },
  {
   "cell_type": "code",
   "execution_count": 2,
   "metadata": {
    "id": "Yu84-7QJPkE-"
   },
   "outputs": [],
   "source": [
    "import numpy as np\n",
    "import pandas as pd\n",
    "import matplotlib.pyplot as plt\n",
    "from collections import Counter\n",
    "import seaborn as sns\n",
    "from sklearn.model_selection import train_test_split\n",
    "import math"
   ]
  },
  {
   "cell_type": "code",
   "execution_count": 3,
   "metadata": {
    "id": "-Q_MlaaGPpaq"
   },
   "outputs": [],
   "source": [
    "class DT:\n",
    "    def __init__(self, max_depth=10, min_samples_leaf=1):\n",
    "        self.max_depth = max_depth\n",
    "        self.min_samples_leaf = min_samples_leaf\n",
    "        self.tree = None\n",
    "\n",
    "    def entropy(self, labels):\n",
    "        label, counts = np.unique(labels, return_counts=True)\n",
    "        prob = counts / counts.sum()\n",
    "        return -np.sum(prob * np.log2(prob))\n",
    "\n",
    "    def information_gain_numerical(self, labels, true_labels, false_labels):\n",
    "        prob = float(len(true_labels)) / len(labels)\n",
    "        info_gain = self.entropy(labels) - prob * self.entropy(true_labels) - (1 - prob) * self.entropy(false_labels)\n",
    "        return info_gain\n",
    "\n",
    "    def information_gain_categorical(self, labels, partitions):\n",
    "        values, counts = np.unique(partitions, return_counts=True)\n",
    "        avg_entropy_of_partitions = sum((counts[i] / sum(counts)) * self.entropy(labels[partitions == value]) for i, value in enumerate(values))\n",
    "        return self.entropy(labels) - avg_entropy_of_partitions\n",
    "\n",
    "    def best_split(self, features, labels, feature_types, min_info_gain=0.01):\n",
    "        best_gain = -np.inf\n",
    "        best_feature = None\n",
    "        best_split_val = None\n",
    "        m = int(math.sqrt(len(features.columns)))\n",
    "        m_features = np.random.choice(features.columns, m, replace=False)\n",
    "        for feature in m_features:\n",
    "            if feature_types[feature] == \"categorical\":\n",
    "                info_gain = self.information_gain_categorical(labels, features[feature])\n",
    "                if info_gain > best_gain and info_gain >= min_info_gain:\n",
    "                    best_gain, best_feature = info_gain, feature\n",
    "                    best_split_val = None\n",
    "            else:\n",
    "                sorted_indices = features[feature].sort_values().index\n",
    "                sorted_labels = labels.loc[sorted_indices]\n",
    "                sorted_features = features.loc[sorted_indices, feature]\n",
    "                for i in range(1, len(sorted_features)):\n",
    "                    if sorted_features.iloc[i] == sorted_features.iloc[i - 1]:\n",
    "                        continue\n",
    "                    split_val = (sorted_features.iloc[i] + sorted_features.iloc[i - 1]) / 2\n",
    "                    true_labels = sorted_labels[sorted_features <= split_val]\n",
    "                    false_labels = sorted_labels[sorted_features > split_val]\n",
    "                    info_gain = self.information_gain_numerical(labels, true_labels, false_labels)\n",
    "                    if info_gain > best_gain and info_gain >= min_info_gain:\n",
    "                        best_gain, best_feature, best_split_val = info_gain, feature, split_val\n",
    "        return best_feature, best_split_val\n",
    "\n",
    "    def build_dt(self, features, labels, feature_types, depth=0):\n",
    "        if len(np.unique(labels)) == 1 or len(features) < self.min_samples_leaf or (self.max_depth and depth >= self.max_depth):\n",
    "            return np.unique(labels)[0]\n",
    "        else:\n",
    "            best_feature, best_split_val = self.best_split(features, labels, feature_types)\n",
    "            if best_feature is None:\n",
    "                return np.unique(labels)[np.argmax(np.unique(labels, return_counts=True)[1])]\n",
    "            tree = {best_feature: {}}\n",
    "            if best_split_val is None:\n",
    "                for value in np.unique(features[best_feature]):\n",
    "                    subtree_features = features[features[best_feature] == value].drop(columns=[best_feature])\n",
    "                    subtree_labels = labels[features[best_feature] == value]\n",
    "                    subtree = self.build_dt(subtree_features, subtree_labels, feature_types, depth + 1)\n",
    "                    tree[best_feature][value] = subtree\n",
    "            else:\n",
    "                left_indices = features[best_feature] <= best_split_val\n",
    "                right_indices = features[best_feature] > best_split_val\n",
    "                left_subtree = self.build_dt(features[left_indices], labels[left_indices], feature_types, depth + 1)\n",
    "                right_subtree = self.build_dt(features[right_indices], labels[right_indices], feature_types, depth + 1)\n",
    "                tree[best_feature] = {\"<= {:.2f}\".format(best_split_val): left_subtree , \"> {:.2f}\".format(best_split_val): right_subtree}\n",
    "            return tree\n",
    "\n",
    "    def fit(self, features, labels, feature_types):\n",
    "        self.feature_types = feature_types\n",
    "        self.tree = self.build_dt(features, labels, feature_types)\n",
    "\n",
    "    def predict(self, dataset):\n",
    "        predictions = []\n",
    "        for _, instance in dataset.iterrows():\n",
    "            prediction = self.predict_helper(instance, self.tree)\n",
    "            predictions.append(prediction)\n",
    "        return np.array(predictions)\n",
    "\n",
    "    def predict_helper(self, instance, tree):\n",
    "        if not isinstance(tree, dict):\n",
    "            return tree\n",
    "        feature = next(iter(tree))\n",
    "        if self.feature_types[feature] == 'categorical':\n",
    "            if instance[feature] in tree[feature]:\n",
    "                return self.predict_helper(instance, tree[feature][instance[feature]])\n",
    "        else:\n",
    "            for key, subtree in tree[feature].items():\n",
    "                if key.startswith('<='):\n",
    "                    split_val = float(key.split('<= ')[1])\n",
    "                    if instance[feature] <= split_val:\n",
    "                        return self.predict_helper(instance, subtree)\n",
    "                elif key.startswith('>'):\n",
    "                    split_val = float(key.split('> ')[1])\n",
    "                    if instance[feature] > split_val:\n",
    "                        return self.predict_helper(instance, subtree)\n",
    "                else:\n",
    "                    if instance[feature] == key:\n",
    "                        return self.predict_helper(instance, subtree)\n",
    "        return np.nan\n"
   ]
  },
  {
   "cell_type": "code",
   "execution_count": 4,
   "metadata": {
    "id": "3S6p_x7OPt8h"
   },
   "outputs": [],
   "source": [
    "class RandomForest:\n",
    "    def __init__(self, n_trees=10, max_depth=10, min_samples_leaf=1):\n",
    "        self.n_trees = n_trees\n",
    "        self.max_depth = max_depth\n",
    "        self.min_samples_leaf = min_samples_leaf\n",
    "        self.trees = []\n",
    "\n",
    "    def bootstrap(self, features, labels):\n",
    "        num_samples = features.shape[0]\n",
    "        indices = np.random.choice(num_samples, num_samples, replace=True)\n",
    "        return features.iloc[indices], labels.iloc[indices]\n",
    "\n",
    "    def fit(self, features, labels, feature_types):\n",
    "        self.trees = []\n",
    "        for _ in range(self.n_trees):\n",
    "            tree = DT(max_depth=self.max_depth, min_samples_leaf=self.min_samples_leaf)\n",
    "            features_sample, labels_sample = self.bootstrap(features, labels)\n",
    "            tree.fit(features_sample, labels_sample, feature_types)\n",
    "            self.trees.append(tree)\n",
    "\n",
    "    def predict(self, instances):\n",
    "        tree_preds = [tree.predict(instances) for tree in self.trees]\n",
    "        tree_preds = np.array(tree_preds).T\n",
    "        majority_votes = [self.most_common_label(pred) for pred in tree_preds]\n",
    "        return np.array(majority_votes)\n",
    "\n",
    "    def most_common_label(self, pred):\n",
    "        return Counter(pred).most_common(1)[0][0]"
   ]
  },
  {
   "cell_type": "code",
   "execution_count": 5,
   "metadata": {
    "id": "cxaIEUQ7PvFq"
   },
   "outputs": [],
   "source": [
    "def stratified_cross_validation(features, labels, k=10):\n",
    "    y = labels.to_numpy()\n",
    "    label_indices = [np.where(y == label)[0] for label in np.unique(y)]\n",
    "    folds = []\n",
    "    pairs = []\n",
    "    shuffled_label_indices = [np.random.permutation(label_list) for label_list in label_indices]\n",
    "    label_splits = [np.array_split(label_list, k) for label_list in shuffled_label_indices]\n",
    "    for fold_parts in zip(*label_splits):\n",
    "        fold = np.concatenate(fold_parts)\n",
    "        folds.append(fold)\n",
    "    for fold_index in range(k):\n",
    "        test_fold = folds[fold_index]\n",
    "        train_fold = np.concatenate([folds[i] for i in range(k) if i != fold_index])\n",
    "        pairs.append((train_fold, test_fold))\n",
    "    return pairs"
   ]
  },
  {
   "cell_type": "code",
   "execution_count": 6,
   "metadata": {
    "id": "hkl1PBPePyK5"
   },
   "outputs": [],
   "source": [
    "def unique_labels_filter(true_labels):\n",
    "    filtered_labels = [label for label in true_labels if not np.isnan(label)]\n",
    "    return np.unique(filtered_labels)\n",
    "\n",
    "def mc_cm(true_labels, predictions, num_classes):\n",
    "    unique_labels = unique_labels_filter(true_labels)\n",
    "    label_to_index = {label: idx for idx, label in enumerate(unique_labels)}\n",
    "    confusion_matrix = [[0 for _ in range(num_classes)] for _ in range(num_classes)]\n",
    "    for true, pred in zip(true_labels, predictions):\n",
    "        if np.isnan(pred):\n",
    "            continue\n",
    "        true_idx = label_to_index[true]\n",
    "        pred_idx = label_to_index.get(pred, -1)\n",
    "        if pred_idx != -1:\n",
    "            confusion_matrix[true_idx][pred_idx] += 1\n",
    "    return confusion_matrix\n",
    "\n",
    "def metrics_calc(confusion_matrix):\n",
    "    metrics = {'precision': [], 'recall': [], 'f1': []}\n",
    "    for i in range(len(confusion_matrix)):\n",
    "        TP = confusion_matrix[i][i]\n",
    "        FN = sum(confusion_matrix[i][j] for j in range(len(confusion_matrix)) if j != i)\n",
    "        FP = sum(confusion_matrix[j][i] for j in range(len(confusion_matrix)) if j != i)\n",
    "        TN = sum(sum(confusion_matrix[j][k] for k in range(len(confusion_matrix)) if k != i) for j in range(len(confusion_matrix)) if j != i)\n",
    "        precision = TP / (TP + FP) if TP + FP > 0 else 0\n",
    "        recall = TP / (TP + FN) if TP + FN > 0 else 0\n",
    "        f1 = 2 * (precision * recall) / (precision + recall) if precision + recall > 0 else 0\n",
    "        metrics['f1'].append(f1)\n",
    "        metrics['precision'].append(precision)\n",
    "        metrics['recall'].append(recall)\n",
    "    for metric in metrics:\n",
    "        metrics[metric] = sum(metrics[metric]) / len(metrics[metric])\n",
    "    return metrics\n"
   ]
  },
  {
   "cell_type": "code",
   "execution_count": 7,
   "metadata": {
    "id": "3uubqHWtPyud"
   },
   "outputs": [],
   "source": [
    "def evaluate_rf(features, labels, feature_types, k=10, ntree=1):\n",
    "    scores = {'accuracy': [], 'precision': [], 'recall': [], 'f1': []}\n",
    "    pairs = stratified_cross_validation(features, labels, k=k)\n",
    "    num_classes = len(np.unique(labels))\n",
    "    for train_indices, test_indices in pairs:\n",
    "        features_train, labels_train = features.iloc[train_indices], labels.iloc[train_indices]\n",
    "        features_test, labels_test = features.iloc[test_indices], labels.iloc[test_indices]\n",
    "        ensemble = RandomForest(n_trees=ntree, max_depth=10, min_samples_leaf=1)\n",
    "        ensemble.fit(features_train, labels_train, feature_types)\n",
    "        predictions = ensemble.predict(features_test)\n",
    "        confusion_matrix = mc_cm(labels_test.to_numpy(), predictions, num_classes)\n",
    "        metrics = metrics_calc(confusion_matrix)\n",
    "        accuracy = sum(confusion_matrix[i][i] for i in range(num_classes)) / sum(sum(row) for row in confusion_matrix)\n",
    "        scores['accuracy'].append(accuracy)\n",
    "        scores['precision'].append(metrics['precision'])\n",
    "        scores['recall'].append(metrics['recall'])\n",
    "        scores['f1'].append(metrics['f1'])\n",
    "    avg_perf = {metric: np.mean(values) for metric, values in scores.items()}\n",
    "    return avg_perf\n"
   ]
  },
  {
   "cell_type": "markdown",
   "metadata": {
    "id": "2_uzIoXsP1Qb"
   },
   "source": [
    "#Analyzing the Breast Cancer Dataset"
   ]
  },
  {
   "cell_type": "code",
   "execution_count": 8,
   "metadata": {
    "colab": {
     "base_uri": "https://localhost:8080/",
     "height": 226
    },
    "id": "D2bMSB6yP0ZG",
    "outputId": "efc691d9-874f-4524-8c73-5cd528ae8da1"
   },
   "outputs": [
    {
     "data": {
      "application/vnd.google.colaboratory.intrinsic+json": {
       "summary": "{\n  \"name\": \"cancer_dataset\",\n  \"rows\": 699,\n  \"fields\": [\n    {\n      \"column\": \"Clump_Thickness\",\n      \"properties\": {\n        \"dtype\": \"number\",\n        \"std\": 2.8157406585949314,\n        \"min\": 1.0,\n        \"max\": 10.0,\n        \"num_unique_values\": 10,\n        \"samples\": [\n          10.0,\n          3.0,\n          1.0\n        ],\n        \"semantic_type\": \"\",\n        \"description\": \"\"\n      }\n    },\n    {\n      \"column\": \"Cell_Size_Uniformity\",\n      \"properties\": {\n        \"dtype\": \"number\",\n        \"std\": 3.051459109954201,\n        \"min\": 1.0,\n        \"max\": 10.0,\n        \"num_unique_values\": 10,\n        \"samples\": [\n          6.0,\n          4.0,\n          3.0\n        ],\n        \"semantic_type\": \"\",\n        \"description\": \"\"\n      }\n    },\n    {\n      \"column\": \"Cell_Shape_Uniformity\",\n      \"properties\": {\n        \"dtype\": \"number\",\n        \"std\": 2.9719127672157133,\n        \"min\": 1.0,\n        \"max\": 10.0,\n        \"num_unique_values\": 10,\n        \"samples\": [\n          7.0,\n          4.0,\n          3.0\n        ],\n        \"semantic_type\": \"\",\n        \"description\": \"\"\n      }\n    },\n    {\n      \"column\": \"Marginal_Adhesion\",\n      \"properties\": {\n        \"dtype\": \"number\",\n        \"std\": 2.855379239217024,\n        \"min\": 1.0,\n        \"max\": 10.0,\n        \"num_unique_values\": 10,\n        \"samples\": [\n          9.0,\n          5.0,\n          4.0\n        ],\n        \"semantic_type\": \"\",\n        \"description\": \"\"\n      }\n    },\n    {\n      \"column\": \"Single_Epi_Cell_Size\",\n      \"properties\": {\n        \"dtype\": \"number\",\n        \"std\": 2.214299886649048,\n        \"min\": 1.0,\n        \"max\": 10.0,\n        \"num_unique_values\": 10,\n        \"samples\": [\n          10.0,\n          7.0,\n          4.0\n        ],\n        \"semantic_type\": \"\",\n        \"description\": \"\"\n      }\n    },\n    {\n      \"column\": \"Bare_Nuclei\",\n      \"properties\": {\n        \"dtype\": \"number\",\n        \"std\": 2,\n        \"min\": 0,\n        \"max\": 10,\n        \"num_unique_values\": 11,\n        \"samples\": [\n          9,\n          0,\n          8\n        ],\n        \"semantic_type\": \"\",\n        \"description\": \"\"\n      }\n    },\n    {\n      \"column\": \"Bland_Chromatin\",\n      \"properties\": {\n        \"dtype\": \"number\",\n        \"std\": 2.438364252324251,\n        \"min\": 1.0,\n        \"max\": 10.0,\n        \"num_unique_values\": 10,\n        \"samples\": [\n          6.0,\n          9.0,\n          5.0\n        ],\n        \"semantic_type\": \"\",\n        \"description\": \"\"\n      }\n    },\n    {\n      \"column\": \"Normal_Nucleoli\",\n      \"properties\": {\n        \"dtype\": \"number\",\n        \"std\": 3.053633893612775,\n        \"min\": 1.0,\n        \"max\": 10.0,\n        \"num_unique_values\": 10,\n        \"samples\": [\n          9.0,\n          2.0,\n          3.0\n        ],\n        \"semantic_type\": \"\",\n        \"description\": \"\"\n      }\n    },\n    {\n      \"column\": \"Mitoses\",\n      \"properties\": {\n        \"dtype\": \"number\",\n        \"std\": 1.7150779425067944,\n        \"min\": 1.0,\n        \"max\": 10.0,\n        \"num_unique_values\": 9,\n        \"samples\": [\n          8.0,\n          5.0,\n          7.0\n        ],\n        \"semantic_type\": \"\",\n        \"description\": \"\"\n      }\n    },\n    {\n      \"column\": \"Class\",\n      \"properties\": {\n        \"dtype\": \"number\",\n        \"std\": 0,\n        \"min\": 0,\n        \"max\": 1,\n        \"num_unique_values\": 2,\n        \"samples\": [\n          1,\n          0\n        ],\n        \"semantic_type\": \"\",\n        \"description\": \"\"\n      }\n    }\n  ]\n}",
       "type": "dataframe",
       "variable_name": "cancer_dataset"
      },
      "text/html": [
       "\n",
       "  <div id=\"df-b688b578-3a3a-4779-99d9-4e357abed884\" class=\"colab-df-container\">\n",
       "    <div>\n",
       "<style scoped>\n",
       "    .dataframe tbody tr th:only-of-type {\n",
       "        vertical-align: middle;\n",
       "    }\n",
       "\n",
       "    .dataframe tbody tr th {\n",
       "        vertical-align: top;\n",
       "    }\n",
       "\n",
       "    .dataframe thead th {\n",
       "        text-align: right;\n",
       "    }\n",
       "</style>\n",
       "<table border=\"1\" class=\"dataframe\">\n",
       "  <thead>\n",
       "    <tr style=\"text-align: right;\">\n",
       "      <th></th>\n",
       "      <th>Clump_Thickness</th>\n",
       "      <th>Cell_Size_Uniformity</th>\n",
       "      <th>Cell_Shape_Uniformity</th>\n",
       "      <th>Marginal_Adhesion</th>\n",
       "      <th>Single_Epi_Cell_Size</th>\n",
       "      <th>Bare_Nuclei</th>\n",
       "      <th>Bland_Chromatin</th>\n",
       "      <th>Normal_Nucleoli</th>\n",
       "      <th>Mitoses</th>\n",
       "      <th>Class</th>\n",
       "    </tr>\n",
       "  </thead>\n",
       "  <tbody>\n",
       "    <tr>\n",
       "      <th>0</th>\n",
       "      <td>5.0</td>\n",
       "      <td>1.0</td>\n",
       "      <td>1.0</td>\n",
       "      <td>1.0</td>\n",
       "      <td>2.0</td>\n",
       "      <td>0</td>\n",
       "      <td>3.0</td>\n",
       "      <td>1.0</td>\n",
       "      <td>1.0</td>\n",
       "      <td>0</td>\n",
       "    </tr>\n",
       "    <tr>\n",
       "      <th>1</th>\n",
       "      <td>5.0</td>\n",
       "      <td>4.0</td>\n",
       "      <td>4.0</td>\n",
       "      <td>5.0</td>\n",
       "      <td>7.0</td>\n",
       "      <td>1</td>\n",
       "      <td>3.0</td>\n",
       "      <td>2.0</td>\n",
       "      <td>1.0</td>\n",
       "      <td>0</td>\n",
       "    </tr>\n",
       "    <tr>\n",
       "      <th>2</th>\n",
       "      <td>3.0</td>\n",
       "      <td>1.0</td>\n",
       "      <td>1.0</td>\n",
       "      <td>1.0</td>\n",
       "      <td>2.0</td>\n",
       "      <td>2</td>\n",
       "      <td>3.0</td>\n",
       "      <td>1.0</td>\n",
       "      <td>1.0</td>\n",
       "      <td>0</td>\n",
       "    </tr>\n",
       "    <tr>\n",
       "      <th>3</th>\n",
       "      <td>6.0</td>\n",
       "      <td>8.0</td>\n",
       "      <td>8.0</td>\n",
       "      <td>1.0</td>\n",
       "      <td>3.0</td>\n",
       "      <td>4</td>\n",
       "      <td>3.0</td>\n",
       "      <td>7.0</td>\n",
       "      <td>1.0</td>\n",
       "      <td>0</td>\n",
       "    </tr>\n",
       "    <tr>\n",
       "      <th>4</th>\n",
       "      <td>4.0</td>\n",
       "      <td>1.0</td>\n",
       "      <td>1.0</td>\n",
       "      <td>3.0</td>\n",
       "      <td>2.0</td>\n",
       "      <td>0</td>\n",
       "      <td>3.0</td>\n",
       "      <td>1.0</td>\n",
       "      <td>1.0</td>\n",
       "      <td>0</td>\n",
       "    </tr>\n",
       "  </tbody>\n",
       "</table>\n",
       "</div>\n",
       "    <div class=\"colab-df-buttons\">\n",
       "\n",
       "  <div class=\"colab-df-container\">\n",
       "    <button class=\"colab-df-convert\" onclick=\"convertToInteractive('df-b688b578-3a3a-4779-99d9-4e357abed884')\"\n",
       "            title=\"Convert this dataframe to an interactive table.\"\n",
       "            style=\"display:none;\">\n",
       "\n",
       "  <svg xmlns=\"http://www.w3.org/2000/svg\" height=\"24px\" viewBox=\"0 -960 960 960\">\n",
       "    <path d=\"M120-120v-720h720v720H120Zm60-500h600v-160H180v160Zm220 220h160v-160H400v160Zm0 220h160v-160H400v160ZM180-400h160v-160H180v160Zm440 0h160v-160H620v160ZM180-180h160v-160H180v160Zm440 0h160v-160H620v160Z\"/>\n",
       "  </svg>\n",
       "    </button>\n",
       "\n",
       "  <style>\n",
       "    .colab-df-container {\n",
       "      display:flex;\n",
       "      gap: 12px;\n",
       "    }\n",
       "\n",
       "    .colab-df-convert {\n",
       "      background-color: #E8F0FE;\n",
       "      border: none;\n",
       "      border-radius: 50%;\n",
       "      cursor: pointer;\n",
       "      display: none;\n",
       "      fill: #1967D2;\n",
       "      height: 32px;\n",
       "      padding: 0 0 0 0;\n",
       "      width: 32px;\n",
       "    }\n",
       "\n",
       "    .colab-df-convert:hover {\n",
       "      background-color: #E2EBFA;\n",
       "      box-shadow: 0px 1px 2px rgba(60, 64, 67, 0.3), 0px 1px 3px 1px rgba(60, 64, 67, 0.15);\n",
       "      fill: #174EA6;\n",
       "    }\n",
       "\n",
       "    .colab-df-buttons div {\n",
       "      margin-bottom: 4px;\n",
       "    }\n",
       "\n",
       "    [theme=dark] .colab-df-convert {\n",
       "      background-color: #3B4455;\n",
       "      fill: #D2E3FC;\n",
       "    }\n",
       "\n",
       "    [theme=dark] .colab-df-convert:hover {\n",
       "      background-color: #434B5C;\n",
       "      box-shadow: 0px 1px 3px 1px rgba(0, 0, 0, 0.15);\n",
       "      filter: drop-shadow(0px 1px 2px rgba(0, 0, 0, 0.3));\n",
       "      fill: #FFFFFF;\n",
       "    }\n",
       "  </style>\n",
       "\n",
       "    <script>\n",
       "      const buttonEl =\n",
       "        document.querySelector('#df-b688b578-3a3a-4779-99d9-4e357abed884 button.colab-df-convert');\n",
       "      buttonEl.style.display =\n",
       "        google.colab.kernel.accessAllowed ? 'block' : 'none';\n",
       "\n",
       "      async function convertToInteractive(key) {\n",
       "        const element = document.querySelector('#df-b688b578-3a3a-4779-99d9-4e357abed884');\n",
       "        const dataTable =\n",
       "          await google.colab.kernel.invokeFunction('convertToInteractive',\n",
       "                                                    [key], {});\n",
       "        if (!dataTable) return;\n",
       "\n",
       "        const docLinkHtml = 'Like what you see? Visit the ' +\n",
       "          '<a target=\"_blank\" href=https://colab.research.google.com/notebooks/data_table.ipynb>data table notebook</a>'\n",
       "          + ' to learn more about interactive tables.';\n",
       "        element.innerHTML = '';\n",
       "        dataTable['output_type'] = 'display_data';\n",
       "        await google.colab.output.renderOutput(dataTable, element);\n",
       "        const docLink = document.createElement('div');\n",
       "        docLink.innerHTML = docLinkHtml;\n",
       "        element.appendChild(docLink);\n",
       "      }\n",
       "    </script>\n",
       "  </div>\n",
       "\n",
       "\n",
       "<div id=\"df-69690c57-a57a-4a8e-ae9a-388487d71c73\">\n",
       "  <button class=\"colab-df-quickchart\" onclick=\"quickchart('df-69690c57-a57a-4a8e-ae9a-388487d71c73')\"\n",
       "            title=\"Suggest charts\"\n",
       "            style=\"display:none;\">\n",
       "\n",
       "<svg xmlns=\"http://www.w3.org/2000/svg\" height=\"24px\"viewBox=\"0 0 24 24\"\n",
       "     width=\"24px\">\n",
       "    <g>\n",
       "        <path d=\"M19 3H5c-1.1 0-2 .9-2 2v14c0 1.1.9 2 2 2h14c1.1 0 2-.9 2-2V5c0-1.1-.9-2-2-2zM9 17H7v-7h2v7zm4 0h-2V7h2v10zm4 0h-2v-4h2v4z\"/>\n",
       "    </g>\n",
       "</svg>\n",
       "  </button>\n",
       "\n",
       "<style>\n",
       "  .colab-df-quickchart {\n",
       "      --bg-color: #E8F0FE;\n",
       "      --fill-color: #1967D2;\n",
       "      --hover-bg-color: #E2EBFA;\n",
       "      --hover-fill-color: #174EA6;\n",
       "      --disabled-fill-color: #AAA;\n",
       "      --disabled-bg-color: #DDD;\n",
       "  }\n",
       "\n",
       "  [theme=dark] .colab-df-quickchart {\n",
       "      --bg-color: #3B4455;\n",
       "      --fill-color: #D2E3FC;\n",
       "      --hover-bg-color: #434B5C;\n",
       "      --hover-fill-color: #FFFFFF;\n",
       "      --disabled-bg-color: #3B4455;\n",
       "      --disabled-fill-color: #666;\n",
       "  }\n",
       "\n",
       "  .colab-df-quickchart {\n",
       "    background-color: var(--bg-color);\n",
       "    border: none;\n",
       "    border-radius: 50%;\n",
       "    cursor: pointer;\n",
       "    display: none;\n",
       "    fill: var(--fill-color);\n",
       "    height: 32px;\n",
       "    padding: 0;\n",
       "    width: 32px;\n",
       "  }\n",
       "\n",
       "  .colab-df-quickchart:hover {\n",
       "    background-color: var(--hover-bg-color);\n",
       "    box-shadow: 0 1px 2px rgba(60, 64, 67, 0.3), 0 1px 3px 1px rgba(60, 64, 67, 0.15);\n",
       "    fill: var(--button-hover-fill-color);\n",
       "  }\n",
       "\n",
       "  .colab-df-quickchart-complete:disabled,\n",
       "  .colab-df-quickchart-complete:disabled:hover {\n",
       "    background-color: var(--disabled-bg-color);\n",
       "    fill: var(--disabled-fill-color);\n",
       "    box-shadow: none;\n",
       "  }\n",
       "\n",
       "  .colab-df-spinner {\n",
       "    border: 2px solid var(--fill-color);\n",
       "    border-color: transparent;\n",
       "    border-bottom-color: var(--fill-color);\n",
       "    animation:\n",
       "      spin 1s steps(1) infinite;\n",
       "  }\n",
       "\n",
       "  @keyframes spin {\n",
       "    0% {\n",
       "      border-color: transparent;\n",
       "      border-bottom-color: var(--fill-color);\n",
       "      border-left-color: var(--fill-color);\n",
       "    }\n",
       "    20% {\n",
       "      border-color: transparent;\n",
       "      border-left-color: var(--fill-color);\n",
       "      border-top-color: var(--fill-color);\n",
       "    }\n",
       "    30% {\n",
       "      border-color: transparent;\n",
       "      border-left-color: var(--fill-color);\n",
       "      border-top-color: var(--fill-color);\n",
       "      border-right-color: var(--fill-color);\n",
       "    }\n",
       "    40% {\n",
       "      border-color: transparent;\n",
       "      border-right-color: var(--fill-color);\n",
       "      border-top-color: var(--fill-color);\n",
       "    }\n",
       "    60% {\n",
       "      border-color: transparent;\n",
       "      border-right-color: var(--fill-color);\n",
       "    }\n",
       "    80% {\n",
       "      border-color: transparent;\n",
       "      border-right-color: var(--fill-color);\n",
       "      border-bottom-color: var(--fill-color);\n",
       "    }\n",
       "    90% {\n",
       "      border-color: transparent;\n",
       "      border-bottom-color: var(--fill-color);\n",
       "    }\n",
       "  }\n",
       "</style>\n",
       "\n",
       "  <script>\n",
       "    async function quickchart(key) {\n",
       "      const quickchartButtonEl =\n",
       "        document.querySelector('#' + key + ' button');\n",
       "      quickchartButtonEl.disabled = true;  // To prevent multiple clicks.\n",
       "      quickchartButtonEl.classList.add('colab-df-spinner');\n",
       "      try {\n",
       "        const charts = await google.colab.kernel.invokeFunction(\n",
       "            'suggestCharts', [key], {});\n",
       "      } catch (error) {\n",
       "        console.error('Error during call to suggestCharts:', error);\n",
       "      }\n",
       "      quickchartButtonEl.classList.remove('colab-df-spinner');\n",
       "      quickchartButtonEl.classList.add('colab-df-quickchart-complete');\n",
       "    }\n",
       "    (() => {\n",
       "      let quickchartButtonEl =\n",
       "        document.querySelector('#df-69690c57-a57a-4a8e-ae9a-388487d71c73 button');\n",
       "      quickchartButtonEl.style.display =\n",
       "        google.colab.kernel.accessAllowed ? 'block' : 'none';\n",
       "    })();\n",
       "  </script>\n",
       "</div>\n",
       "\n",
       "    </div>\n",
       "  </div>\n"
      ],
      "text/plain": [
       "   Clump_Thickness  Cell_Size_Uniformity  Cell_Shape_Uniformity  \\\n",
       "0              5.0                   1.0                    1.0   \n",
       "1              5.0                   4.0                    4.0   \n",
       "2              3.0                   1.0                    1.0   \n",
       "3              6.0                   8.0                    8.0   \n",
       "4              4.0                   1.0                    1.0   \n",
       "\n",
       "   Marginal_Adhesion  Single_Epi_Cell_Size  Bare_Nuclei  Bland_Chromatin  \\\n",
       "0                1.0                   2.0            0              3.0   \n",
       "1                5.0                   7.0            1              3.0   \n",
       "2                1.0                   2.0            2              3.0   \n",
       "3                1.0                   3.0            4              3.0   \n",
       "4                3.0                   2.0            0              3.0   \n",
       "\n",
       "   Normal_Nucleoli  Mitoses  Class  \n",
       "0              1.0      1.0      0  \n",
       "1              2.0      1.0      0  \n",
       "2              1.0      1.0      0  \n",
       "3              7.0      1.0      0  \n",
       "4              1.0      1.0      0  "
      ]
     },
     "execution_count": 8,
     "metadata": {},
     "output_type": "execute_result"
    }
   ],
   "source": [
    "cancer_dataset = pd.read_csv('datasets/hw3_cancer.csv', delimiter='\\t')\n",
    "cancer_dataset.head()"
   ]
  },
  {
   "cell_type": "code",
   "execution_count": 9,
   "metadata": {
    "colab": {
     "base_uri": "https://localhost:8080/"
    },
    "id": "plmwkzqwQFO-",
    "outputId": "e0155468-410c-4794-8ebf-09ae83a2293e"
   },
   "outputs": [
    {
     "data": {
      "text/plain": [
       "Class\n",
       "0    458\n",
       "1    241\n",
       "dtype: int64"
      ]
     },
     "execution_count": 9,
     "metadata": {},
     "output_type": "execute_result"
    }
   ],
   "source": [
    "cancer_dataset.groupby('Class').size()"
   ]
  },
  {
   "cell_type": "code",
   "execution_count": 10,
   "metadata": {
    "colab": {
     "base_uri": "https://localhost:8080/"
    },
    "id": "jJI5vlZUQiAU",
    "outputId": "e039c60b-d085-448e-db0e-96e9520c3ec0"
   },
   "outputs": [
    {
     "data": {
      "text/plain": [
       "699"
      ]
     },
     "execution_count": 10,
     "metadata": {},
     "output_type": "execute_result"
    }
   ],
   "source": [
    "num_instances = len(cancer_dataset)\n",
    "num_instances"
   ]
  },
  {
   "cell_type": "code",
   "execution_count": 11,
   "metadata": {
    "colab": {
     "base_uri": "https://localhost:8080/"
    },
    "id": "1syVtdcZQkoX",
    "outputId": "ad9ecdbd-72c8-4704-8df7-28705daa87c8"
   },
   "outputs": [
    {
     "data": {
      "text/plain": [
       "{'Clump_Thickness': 'numerical',\n",
       " 'Cell_Size_Uniformity': 'numerical',\n",
       " 'Cell_Shape_Uniformity': 'numerical',\n",
       " 'Marginal_Adhesion': 'numerical',\n",
       " 'Single_Epi_Cell_Size': 'numerical',\n",
       " 'Bare_Nuclei': 'numerical',\n",
       " 'Bland_Chromatin': 'numerical',\n",
       " 'Normal_Nucleoli': 'numerical',\n",
       " 'Mitoses': 'numerical'}"
      ]
     },
     "execution_count": 11,
     "metadata": {},
     "output_type": "execute_result"
    }
   ],
   "source": [
    "cancer_features = cancer_dataset.drop('Class', axis=1)\n",
    "cancer_labels = cancer_dataset['Class']\n",
    "cancer_feature_types = {}\n",
    "for column in cancer_dataset.columns:\n",
    "    if column == 'Class':\n",
    "        continue\n",
    "    cancer_feature_types[column] = 'numerical'\n",
    "cancer_feature_types"
   ]
  },
  {
   "cell_type": "code",
   "execution_count": 12,
   "metadata": {
    "colab": {
     "base_uri": "https://localhost:8080/"
    },
    "id": "tYtGJ4f5Q7lC",
    "outputId": "135ea471-6f15-4f91-c603-898cdc8cc620"
   },
   "outputs": [
    {
     "name": "stdout",
     "output_type": "stream",
     "text": [
      "Metrics for a value of ntree = 1: {'accuracy': 0.8657705654215146, 'precision': 0.8783686856815557, 'recall': 0.8274625603864733, 'f1': 0.8269240721910436}\n"
     ]
    }
   ],
   "source": [
    "average_performance_1 = evaluate_rf(cancer_features, cancer_labels, cancer_feature_types, k=10, ntree=1)\n",
    "print(f\"Metrics for a value of ntree = {1}: {average_performance_1}\")\n"
   ]
  },
  {
   "cell_type": "code",
   "execution_count": null,
   "metadata": {
    "colab": {
     "base_uri": "https://localhost:8080/"
    },
    "id": "RWdPgDz_RHc9",
    "outputId": "cd71ba7c-520d-4d68-ebd9-5da5d9d67afd"
   },
   "outputs": [
    {
     "name": "stdout",
     "output_type": "stream",
     "text": [
      "Metrics for a value of ntree = 1: {'accuracy': 0.8898285364360075, 'precision': 0.9025219990329665, 'recall': 0.854150966183575, 'f1': 0.8659407308463625}\n",
      "Metrics for a value of ntree = 5: {'accuracy': 0.9369553553203278, 'precision': 0.93818803068316, 'recall': 0.926123188405797, 'f1': 0.9293509489668696}\n",
      "Metrics for a value of ntree = 10: {'accuracy': 0.9599580089231038, 'precision': 0.9532972222042527, 'recall': 0.9615458937198067, 'f1': 0.956386617354239}\n",
      "Metrics for a value of ntree = 20: {'accuracy': 0.9614469425247135, 'precision': 0.9555087738531686, 'recall': 0.9607234299516907, 'f1': 0.9577096095937254}\n",
      "Metrics for a value of ntree = 30: {'accuracy': 0.9642017321319221, 'precision': 0.9582481344160346, 'recall': 0.9647826086956522, 'f1': 0.9608167711095875}\n",
      "Metrics for a value of ntree = 40: {'accuracy': 0.9656521739130437, 'precision': 0.958827152357887, 'recall': 0.9688828502415457, 'f1': 0.9627539303682144}\n",
      "Metrics for a value of ntree = 50: {'accuracy': 0.9641816114075759, 'precision': 0.9576133044854513, 'recall': 0.9657548309178745, 'f1': 0.9608935953443499}\n"
     ]
    }
   ],
   "source": [
    "ntree_values = [1, 5, 10, 20, 30, 40, 50]\n",
    "metrics_results = {'ntree': [], 'accuracy': [], 'precision': [], 'recall': [], 'f1': []}\n",
    "for ntree in ntree_values:\n",
    "    average_performance = evaluate_rf(cancer_features, cancer_labels, cancer_feature_types, k=10, ntree=ntree)\n",
    "    metrics_results['ntree'].append(ntree)\n",
    "    metrics_results['accuracy'].append(average_performance['accuracy'])\n",
    "    metrics_results['precision'].append(average_performance['precision'])\n",
    "    metrics_results['recall'].append(average_performance['recall'])\n",
    "    metrics_results['f1'].append(average_performance['f1'])\n",
    "    print(f\"Metrics for a value of ntree = {ntree}: {average_performance}\")"
   ]
  },
  {
   "cell_type": "code",
   "execution_count": null,
   "metadata": {
    "colab": {
     "base_uri": "https://localhost:8080/",
     "height": 810
    },
    "id": "abzXfJW5VX9L",
    "outputId": "1fb7e13e-caba-45a6-cce5-f697e76970f6"
   },
   "outputs": [
    {
     "data": {
      "image/png": "[encoded data removed]",
      "text/plain": [
       "<Figure size 1400x1000 with 4 Axes>"
      ]
     },
     "metadata": {},
     "output_type": "display_data"
    }
   ],
   "source": [
    "def plot(metrics):\n",
    "    plt.figure(figsize=(14, 10))\n",
    "    titles = ['Accuracy', 'Precision', 'Recall', 'F1 Score']\n",
    "    for i, metric in enumerate(['accuracy', 'precision', 'recall', 'f1'], start=1):\n",
    "        plt.subplot(2, 2, i)\n",
    "        plt.plot(metrics['ntree'], metrics[metric], marker='o', linestyle='-', color='b')\n",
    "        plt.title(f'RF {titles[i-1]} as a function of ntree')\n",
    "        plt.xlabel('ntree')\n",
    "        plt.ylabel(titles[i-1])\n",
    "        plt.xticks(metrics_results['ntree'])\n",
    "        plt.grid(True)\n",
    "    plt.tight_layout()\n",
    "    plt.show()\n",
    "plot(metrics_results)"
   ]
  },
  {
   "cell_type": "markdown",
   "metadata": {
    "id": "VplfEvKRVhJ3"
   },
   "source": [
    "*4.* For each metric being evaluated (and for each dataset), discuss which value of ntree you would\n",
    "select if you were to deploy this classifier in real life. Explain your reasoning.\n"
   ]
  },
  {
   "cell_type": "markdown",
   "metadata": {
    "id": "2hPFtN2d_KdW"
   },
   "source": [
    "In the context of the Breast Cancer Dataset, the primary goal is accurately classifying biopsy samples to detect cancer, the choice of ntree (the number of trees in the random forest) is very important since we're dealing with a life or death situation if we end up misdiagnozing. Each of the metrics: accuracy, precision, recall, and F1 score play an important role in evaluating the model's performance. We're going to select the value of ntree keeping in mind both performance and computational efficiency. Also recall is the most important metric in a medical diagnosis so having a high recall is one of our aims.\n",
    "\n",
    "Accuracy reaches its peak witg ntree = 40 (0.9656). This value indicates the model's ability to correctly classify both classes. While accuracy is important, we can't base our entire decision on accuracy alone, especially in medical diagnostics where the cost of FP is particularly high.\n",
    "\n",
    "Precision peaks at various points, ntree = 40 also shows the highest precision (0.9588) however it's really negligeable compared to ntree = 30 and ntree = 50. Precision indicates the model's ability to minimize FP, in other words classifying non cancerous tissue as cancerous. In a medical context, while high precision is desirable to avoid unnecessary anxiety or treatment, it's recall that's more important so we don't end up missing a cancerous tissue which might lead to a patient's probability of recovery going down.\n",
    "\n",
    "Recall reaches its highest ntree = 40, with a recall of 0.9688. Recall is the most critical metric in this scenario since it measures the model's ability to identify all actual positive cases (all cancerous tissues). A high recall reduces the risk of falsely classifying cancerous tissues as benign, which could delay treatment. Given the serious implications of missed cancer diagnoses, a slightly higher computational cost for increased recall ntree = 40 is a worth it trade-off.\n",
    "\n",
    "F1 Score also reaches it's maximum at ntree = 40, with an F1 score of 0.9627. The F1 score provides a balance between precision and recall, making it a robust metric for model evaluation. The high F1 score at ntree = 40 suggests an effective balance, crucial for medical applications where both FP and FN carry significant consequences.\n",
    "\n",
    "In the context of breast cancer diagnosis, we don't want to overwhelme people with FP. The trade-off between precision and recall are very important here this is why our model must carefully consider these metrics to ensure an optimal balance selecting an ntree value that maximizes performance while considering computational efficiency and the clinical implications of FN and FP.\n",
    "\n",
    "So ntree = 40 is the best choice across all metrics, offering an excellent balance between accuracy, precision, recall, and F1 score. This might come at the expense of increased computational resources and longer training times, however it's worth it considering that in medical diagnosis the emphasis must be on performance particularly recall so no treatment gets delayed or ignored."
   ]
  },
  {
   "cell_type": "markdown",
   "metadata": {
    "id": "9pjnhRJsVmj-"
   },
   "source": [
    "*5.* Discuss (on a high level) which metrics were more directly affected by changing the value of\n",
    "ntree and, more generally, how such changes affected the performance of your algorithm. For\n",
    "instance: was the accuracy of the random forest particularly sensitive to increasing ntree past a\n",
    "given value? Was the F1 score a “harder” metric to optimize, possibly requiring a significant\n",
    "number of trees in the ensemble? Is there a point beyond which adding more trees does not\n",
    "improve performance—or makes the performance worse?\n"
   ]
  },
  {
   "cell_type": "markdown",
   "metadata": {},
   "source": [
    "The model's accuracy improves consistently with the increase in ntree, peaking at ntree = 40 so adding more trees enhanced its overall classification ability. However, after a certain threshhold (here 40) performance started decreasing.\n",
    "\n",
    "At ntree = 20 while precision shows an increase, recall does not show any improvement (a smal drop in performance). This discrepancy highlights a critical trade-off between minimizing FP and ensuring high recall. The boost in precision at ntree = 20 suggests that the ensemble becomes better at ensuring its positive predictions are correct but without a significant increase in recall.\n",
    "\n",
    "At ntree = 20 where recall doesn't improve alongside precision shows the challenge in optimizing the F1 score. We need a balance between the two metrics so we need to take all steps necessary to ensure both metrics are benefitting in the same way and not one benefetting on the expense of the other.\n",
    "\n",
    "We see that beyond a certain point adding more trees has a negative impact on model performance. Also for ntree = 20 we saw that adding more trees doesn't necessarily impacts all metrics in the same way with precision improving and recall staying somewhat the same, we need to keep an eye on this while using random forests.\n",
    "At ntree = 50, all metrics slightly decrease possibly due to overfitting or because the model's becoming too complex. This is not good since generalization becomes bad and our model is hence not efficient.\n"
   ]
  },
  {
   "cell_type": "markdown",
   "metadata": {},
   "source": []
  }
 ],
 "metadata": {
  "colab": {
   "provenance": []
  },
  "kernelspec": {
   "display_name": "Python 3 (ipykernel)",
   "language": "python",
   "name": "python3"
  },
  "language_info": {
   "codemirror_mode": {
    "name": "ipython",
    "version": 3
   },
   "file_extension": ".py",
   "mimetype": "text/x-python",
   "name": "python",
   "nbconvert_exporter": "python",
   "pygments_lexer": "ipython3",
   "version": "3.7.16"
  }
 },
 "nbformat": 4,
 "nbformat_minor": 1
}
